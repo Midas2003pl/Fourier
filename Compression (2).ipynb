{
 "cells": [
  {
   "cell_type": "markdown",
   "metadata": {},
   "source": [
    "Compression"
   ]
  },
  {
   "cell_type": "code",
   "execution_count": 2,
   "metadata": {},
   "outputs": [],
   "source": [
    "import numpy as np \n",
    "import matplotlib.pyplot as plt \n",
    "from scipy.fft import fft2, ifft2\n",
    "from PIL import Image as im"
   ]
  },
  {
   "cell_type": "code",
   "execution_count": 3,
   "metadata": {},
   "outputs": [],
   "source": [
    "def convert_to_greyscale(input_data):\n",
    "    array = np.array(input_data)\n",
    "    grayscale_image = np.mean(array, axis=-1, keepdims=True).astype(np.uint8)\n",
    "    return grayscale_image.squeeze()"
   ]
  },
  {
   "cell_type": "code",
   "execution_count": 4,
   "metadata": {},
   "outputs": [],
   "source": [
    "def compress(arr):\n",
    "    f_transform = fft2(arr)\n",
    "    sorted_f = np.sort(np.abs(f_transform.reshape(-1)))\n",
    "\n",
    "    keep = 0.01\n",
    "    threshold = sorted_f[int(np.floor((1 - keep) * len(sorted_f)))]\n",
    "    indices = np.abs(f_transform) > threshold\n",
    "    f_low = f_transform * indices\n",
    "    lowarr =  ifft2(f_low).real\n",
    "    #print(np.array_equal(lowarr, arr))\n",
    "    return lowarr"
   ]
  },
  {
   "cell_type": "code",
   "execution_count": 5,
   "metadata": {},
   "outputs": [],
   "source": [
    "def compress_with_color(arr):\n",
    "    carr = np.zeros_like(arr)\n",
    "    for i in range(arr.shape[-1]):\n",
    "        carr[:, :, i] = compress(arr[:, :, i])\n",
    "    return carr"
   ]
  },
  {
   "cell_type": "code",
   "execution_count": 6,
   "metadata": {},
   "outputs": [],
   "source": [
    "def mae(original, compressed):\n",
    "    if original.shape != compressed.shape:\n",
    "        raise ValueError(\"Matrices should have the same sizes\")\n",
    "    \n",
    "    MAE = np.sum(np.abs(original - compressed))\n",
    "\n",
    "    n = np.prod(original.shape)\n",
    "    return MAE / n"
   ]
  },
  {
   "cell_type": "code",
   "execution_count": 7,
   "metadata": {},
   "outputs": [],
   "source": [
    "def mse(original, compressed):\n",
    "    if original.shape != compressed.shape:\n",
    "        raise ValueError(\"Matrices should have the same sizes\")\n",
    "    \n",
    "    MSE = np.sum((original - compressed)**2)\n",
    "\n",
    "    n = np.prod(original.shape)\n",
    "\n",
    "    return MSE / n"
   ]
  },
  {
   "cell_type": "code",
   "execution_count": 9,
   "metadata": {},
   "outputs": [
    {
     "name": "stdout",
     "output_type": "stream",
     "text": [
      "False\n",
      "MAE: 124.47796997070313\n",
      "MSE: 76.3034075249566\n"
     ]
    }
   ],
   "source": [
    "img = im.open('car.jpg')\n",
    "#arr = convert_to_greyscale(img)\n",
    "#img = im.fromarray(arr)\n",
    "img.show()\n",
    "\n",
    "arr = np.array(img)\n",
    "arr = np.array(img) / 255.0  # Przeskaluj do zakresu [0, 1]\n",
    "carr = compress_with_color(arr)\n",
    "arr = np.clip(arr * 255.0, 0, 255).astype(np.uint8)\n",
    "carr = np.clip(carr * 255.0, 0, 255).astype(np.uint8)\n",
    "print(np.array_equal(arr, carr))\n",
    "print(f'MAE: {mae(arr, carr)}')\n",
    "print(f'MSE: {mse(arr, carr)}')\n",
    "img = im.fromarray(carr)\n",
    "\n",
    "img.show()"
   ]
  }
 ],
 "metadata": {
  "kernelspec": {
   "display_name": "Python 3",
   "language": "python",
   "name": "python3"
  },
  "language_info": {
   "codemirror_mode": {
    "name": "ipython",
    "version": 3
   },
   "file_extension": ".py",
   "mimetype": "text/x-python",
   "name": "python",
   "nbconvert_exporter": "python",
   "pygments_lexer": "ipython3",
   "version": "3.12.0"
  }
 },
 "nbformat": 4,
 "nbformat_minor": 2
}
