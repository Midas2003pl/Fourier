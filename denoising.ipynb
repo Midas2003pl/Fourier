{
 "cells": [
  {
   "cell_type": "markdown",
   "metadata": {},
   "source": [
    "Denoising"
   ]
  },
  {
   "cell_type": "code",
   "execution_count": 16,
   "metadata": {},
   "outputs": [],
   "source": [
    "import numpy as np \n",
    "import matplotlib.pyplot as plt \n",
    "from scipy.fft import fft2, ifft2\n",
    "from PIL import Image as im"
   ]
  },
  {
   "cell_type": "code",
   "execution_count": 17,
   "metadata": {},
   "outputs": [],
   "source": [
    "def convert_to_greyscale(input_data):\n",
    "    array = np.array(input_data)\n",
    "    grayscale_image = np.mean(array, axis=-1, keepdims=True).astype(np.uint8)\n",
    "    return grayscale_image.squeeze()"
   ]
  },
  {
   "cell_type": "code",
   "execution_count": 51,
   "metadata": {},
   "outputs": [],
   "source": [
    "def denoise2D(arr):\n",
    "    f_transform = fft2(arr)\n",
    "    r, c = f_transform.shape\n",
    "    frac = 0.1\n",
    "    f_transform[int(r * frac): int(r * (1 - frac))] = 0\n",
    "    f_transform[:, int(c * frac):int(c * (1 - frac))] = 0\n",
    "    return ifft2(f_transform).real"
   ]
  },
  {
   "cell_type": "code",
   "execution_count": 30,
   "metadata": {},
   "outputs": [],
   "source": [
    "def denoiseND(arr):\n",
    "    for i in range(arr.shape[-1]):\n",
    "        arr[:, :, i] = denoise2D(arr[:, :, i])\n",
    "    return arr\n",
    "        "
   ]
  },
  {
   "cell_type": "code",
   "execution_count": 52,
   "metadata": {},
   "outputs": [],
   "source": [
    "img = im.open('R.png')\n",
    "img.show()\n",
    "arr = np.array(img)\n",
    "\n",
    "arr = denoiseND(arr)\n",
    "img = im.fromarray(arr)\n",
    "\n",
    "img.show()"
   ]
  }
 ],
 "metadata": {
  "kernelspec": {
   "display_name": "Python 3",
   "language": "python",
   "name": "python3"
  },
  "language_info": {
   "codemirror_mode": {
    "name": "ipython",
    "version": 3
   },
   "file_extension": ".py",
   "mimetype": "text/x-python",
   "name": "python",
   "nbconvert_exporter": "python",
   "pygments_lexer": "ipython3",
   "version": "3.12.0"
  }
 },
 "nbformat": 4,
 "nbformat_minor": 2
}
